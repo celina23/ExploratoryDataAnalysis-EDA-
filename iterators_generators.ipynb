{
  "cells": [
    {
      "cell_type": "markdown",
      "metadata": {
        "id": "view-in-github",
        "colab_type": "text"
      },
      "source": [
        "<a href=\"https://colab.research.google.com/github/celina23/ExploratoryDataAnalysis-EDA-/blob/main/iterators_generators.ipynb\" target=\"_parent\"><img src=\"https://colab.research.google.com/assets/colab-badge.svg\" alt=\"Open In Colab\"/></a>"
      ]
    },
    {
      "cell_type": "markdown",
      "metadata": {
        "id": "pf_5ocsOeCkC"
      },
      "source": [
        "# Iterators"
      ]
    },
    {
      "cell_type": "markdown",
      "metadata": {
        "id": "faOIAVmqeCkK"
      },
      "source": [
        "Iterators are everywhere in Python. They are elegantly implemented within for loops, comprehensions, generators etc."
      ]
    },
    {
      "cell_type": "markdown",
      "metadata": {
        "id": "n08roKaSeCkL"
      },
      "source": [
        "Iterator in Python is simply an object that can be iterated upon. An object which will return data, one element at a time."
      ]
    },
    {
      "cell_type": "markdown",
      "metadata": {
        "id": "-4M1Ce_GeCkM"
      },
      "source": [
        "Iterator object must implement two special methods, __iter__() and __next__(), collectively called the iterator protocol."
      ]
    },
    {
      "cell_type": "markdown",
      "metadata": {
        "id": "mAc09LvzeCkN"
      },
      "source": [
        "# Iterating Through an Iterator in Python"
      ]
    },
    {
      "cell_type": "markdown",
      "metadata": {
        "id": "n-EBea20eCkO"
      },
      "source": [
        "We use the next() function to manually iterate through all the items of an iterator. When we reach the end and there is no more data to be returned, it will raise StopIteration."
      ]
    },
    {
      "cell_type": "code",
      "execution_count": null,
      "metadata": {
        "id": "mxQqL0HKeCkR",
        "outputId": "1c51e101-4e90-4e6c-fdc5-967535a896d5"
      },
      "outputs": [
        {
          "name": "stdout",
          "output_type": "stream",
          "text": [
            "1\n",
            "2\n",
            "3\n",
            "4\n"
          ]
        },
        {
          "ename": "StopIteration",
          "evalue": "",
          "output_type": "error",
          "traceback": [
            "\u001b[0;31m---------------------------------------------------------------------------\u001b[0m",
            "\u001b[0;31mStopIteration\u001b[0m                             Traceback (most recent call last)",
            "\u001b[0;32m<ipython-input-2-f79096306ee3>\u001b[0m in \u001b[0;36m<module>\u001b[0;34m()\u001b[0m\n\u001b[1;32m     12\u001b[0m \u001b[0;32mprint\u001b[0m \u001b[0mnext\u001b[0m\u001b[0;34m(\u001b[0m\u001b[0mmyIter\u001b[0m\u001b[0;34m)\u001b[0m\u001b[0;34m\u001b[0m\u001b[0m\n\u001b[1;32m     13\u001b[0m \u001b[0;34m\u001b[0m\u001b[0m\n\u001b[0;32m---> 14\u001b[0;31m \u001b[0mnext\u001b[0m\u001b[0;34m(\u001b[0m\u001b[0mmyIter\u001b[0m\u001b[0;34m)\u001b[0m\u001b[0;34m\u001b[0m\u001b[0m\n\u001b[0m",
            "\u001b[0;31mStopIteration\u001b[0m: "
          ]
        }
      ],
      "source": [
        "lst = [1, 2, 3, 4]\n",
        "\n",
        "#get an iterator using iter()\n",
        "myIter = iter(lst)\n",
        "\n",
        "print next(myIter)\n",
        "\n",
        "print next(myIter)\n",
        "\n",
        "print next(myIter)\n",
        "\n",
        "print next(myIter)\n",
        "\n",
        "next(myIter)"
      ]
    },
    {
      "cell_type": "markdown",
      "metadata": {
        "id": "T9kFAyhkeCkW"
      },
      "source": [
        "A more elegant way of automatically iterating is by using the for loop. "
      ]
    },
    {
      "cell_type": "code",
      "execution_count": null,
      "metadata": {
        "id": "Tlu3dWGUeCkY",
        "outputId": "f667dfd0-c0fb-4558-f604-768b4229e476"
      },
      "outputs": [
        {
          "name": "stdout",
          "output_type": "stream",
          "text": [
            "1\n",
            "2\n",
            "3\n",
            "4\n"
          ]
        }
      ],
      "source": [
        "for element in lst:\n",
        "    print element"
      ]
    },
    {
      "cell_type": "markdown",
      "metadata": {
        "id": "34CTvVzjeCka"
      },
      "source": [
        "# How for loop Actually works?"
      ]
    },
    {
      "cell_type": "code",
      "execution_count": null,
      "metadata": {
        "collapsed": true,
        "id": "RBIxtCwNeCkb"
      },
      "outputs": [],
      "source": [
        "#create a iterator object from that iterable\n",
        "iter_obj = iter(lst)\n",
        "\n",
        "#infinite loop\n",
        "while True:\n",
        "    try:\n",
        "        #get the element\n",
        "        element = next(iter_obj)\n",
        "    except StopIteration:\n",
        "        break"
      ]
    },
    {
      "cell_type": "markdown",
      "metadata": {
        "id": "fGxR2TQveCkc"
      },
      "source": [
        "So internally, the for loop creates an iterator object, iter_obj by calling iter() on the iterable.\n",
        "\n",
        "This for loop is actually an infinite while loop.\n",
        "\n",
        "Inside the loop, it calls next() to get the next element and executes the body of the for loop with this value. After all the items exhaust, StopIteration is raised which is internally caught and the loop ends."
      ]
    },
    {
      "cell_type": "markdown",
      "metadata": {
        "id": "lyPSb_djeCkd"
      },
      "source": [
        "# Building Your Own Iterator in Python"
      ]
    },
    {
      "cell_type": "markdown",
      "metadata": {
        "id": "orUbgSj4eCkd"
      },
      "source": [
        "Building an iterator from scratch is easy in Python. We just have to implement the methods __iter__() and __next__().\n",
        "\n",
        "The __iter__() method returns the iterator object itself. If required, some initialization can be performed.\n",
        "\n",
        "The __next__() method must return the next item in the sequence. On reaching the end, and in subsequent calls, it must raise StopIteration.\n",
        "\n"
      ]
    },
    {
      "cell_type": "code",
      "execution_count": null,
      "metadata": {
        "collapsed": true,
        "id": "uLyLjcNReCkf"
      },
      "outputs": [],
      "source": [
        "class PowOfTwo:\n",
        "    \"\"\"\n",
        "    class to implement iterator of powers of two\n",
        "    \"\"\"\n",
        "    \n",
        "    def __init__(self, max=0):\n",
        "        self.max = max\n",
        "        \n",
        "    def __iter__(self):\n",
        "        self.n = 0\n",
        "        return self\n",
        "\n",
        "    def next(self):\n",
        "        if self.n <= self.max:\n",
        "            result = 2 ** self.n\n",
        "            self.n += 1\n",
        "            return result\n",
        "        else:\n",
        "            raise StopIteration"
      ]
    },
    {
      "cell_type": "code",
      "execution_count": null,
      "metadata": {
        "id": "xvBx2JokeCkg",
        "outputId": "ebb2fd1c-ee00-4c4a-9084-952b9a3ee27c"
      },
      "outputs": [
        {
          "name": "stdout",
          "output_type": "stream",
          "text": [
            "1\n",
            "2\n",
            "4\n",
            "8\n",
            "16\n",
            "32\n"
          ]
        }
      ],
      "source": [
        "for i in PowOfTwo(5):\n",
        "    print i"
      ]
    },
    {
      "cell_type": "markdown",
      "metadata": {
        "id": "_i-Y3aBOeCkh"
      },
      "source": [
        "# Generators"
      ]
    },
    {
      "cell_type": "markdown",
      "metadata": {
        "id": "HaeeHF8neCkh"
      },
      "source": [
        "Python generators are a simple way of creating iterators. All the overhead (implement a class with __iter__() and __next__() method, keep track of internal states, raise StopIteration when there was no values to be returned ) are automatically handled by generators in Python."
      ]
    },
    {
      "cell_type": "markdown",
      "metadata": {
        "id": "nenygUVHeCki"
      },
      "source": [
        "# How to create a generator in Python?"
      ]
    },
    {
      "cell_type": "markdown",
      "metadata": {
        "id": "jMRlRSjceCkj"
      },
      "source": [
        "It is as easy as defining a normal function with yield statement instead of a return statement."
      ]
    },
    {
      "cell_type": "markdown",
      "metadata": {
        "id": "j5f-Mt2aeCkk"
      },
      "source": [
        "If a function contains at least one yield statement (it may contain other yield or return statements), it becomes a generator function. Both yield and return will return some value from a function.\n",
        "\n",
        "The difference is that, while a return statement terminates a function entirely, yield statement pauses the function saving all its states and later continues from there on successive calls."
      ]
    },
    {
      "cell_type": "markdown",
      "metadata": {
        "id": "ZLzONioHeCkm"
      },
      "source": [
        "# Differences between Generator function and a Normal function"
      ]
    },
    {
      "cell_type": "markdown",
      "metadata": {
        "id": "blKgGAWteCkm"
      },
      "source": [
        "    Generator function contains one or more yield statement.\n",
        "    \n",
        "    When called, it returns an object (iterator) but does not start execution immediately.\n",
        "\n",
        "    Methods like __iter__() and __next__() are implemented automatically. So we can iterate through the items using next().\n",
        "\n",
        "    Once the function yields, the function is paused and the control is transferred to the caller.\n",
        "\n",
        "    Local variables and their states are remembered between successive calls.\n",
        "\n",
        "    Finally, when the function terminates, StopIteration is raised automatically on further calls."
      ]
    },
    {
      "cell_type": "code",
      "execution_count": null,
      "metadata": {
        "collapsed": true,
        "id": "M6wngtF8eCkn"
      },
      "outputs": [],
      "source": [
        "def my_generator():\n",
        "    \"\"\"\n",
        "    Simple generator function\n",
        "    \"\"\"\n",
        "    a = 1\n",
        "    print \"First Time\"\n",
        "    yield a\n",
        "    \n",
        "    a += 1\n",
        "    print \"Second Time\"\n",
        "    yield a\n",
        "    \n",
        "    a += 1\n",
        "    print \"Third Time\"\n",
        "    yield a"
      ]
    },
    {
      "cell_type": "code",
      "execution_count": null,
      "metadata": {
        "id": "-Nnwwg6leCko",
        "outputId": "26cc26de-d80e-46e3-9adf-3d32b109198a"
      },
      "outputs": [
        {
          "name": "stdout",
          "output_type": "stream",
          "text": [
            "First Time\n"
          ]
        },
        {
          "data": {
            "text/plain": [
              "1"
            ]
          },
          "execution_count": 16,
          "metadata": {},
          "output_type": "execute_result"
        }
      ],
      "source": [
        "n = my_generator()\n",
        "\n",
        "#we can iterate through the items using next()\n",
        "next(n)"
      ]
    },
    {
      "cell_type": "code",
      "execution_count": null,
      "metadata": {
        "id": "OTHr7k0beCkp",
        "outputId": "2570782a-0dc8-40b7-8b49-ca0de46bff64"
      },
      "outputs": [
        {
          "name": "stdout",
          "output_type": "stream",
          "text": [
            "Second Time\n"
          ]
        },
        {
          "data": {
            "text/plain": [
              "2"
            ]
          },
          "execution_count": 17,
          "metadata": {},
          "output_type": "execute_result"
        }
      ],
      "source": [
        "next(n)"
      ]
    },
    {
      "cell_type": "code",
      "execution_count": null,
      "metadata": {
        "id": "N7SdUgwAeCkp",
        "outputId": "40ab2dc1-3619-4bfb-f400-e829ecb9607f"
      },
      "outputs": [
        {
          "name": "stdout",
          "output_type": "stream",
          "text": [
            "Third Time\n"
          ]
        },
        {
          "data": {
            "text/plain": [
              "3"
            ]
          },
          "execution_count": 18,
          "metadata": {},
          "output_type": "execute_result"
        }
      ],
      "source": [
        "next(n)"
      ]
    },
    {
      "cell_type": "code",
      "execution_count": null,
      "metadata": {
        "id": "HfkWD3cKeCkq",
        "outputId": "ee6ab636-3e8c-42ff-d8f7-80585b121a83"
      },
      "outputs": [
        {
          "ename": "StopIteration",
          "evalue": "",
          "output_type": "error",
          "traceback": [
            "\u001b[0;31m---------------------------------------------------------------------------\u001b[0m",
            "\u001b[0;31mStopIteration\u001b[0m                             Traceback (most recent call last)",
            "\u001b[0;32m<ipython-input-19-1c47c7af397e>\u001b[0m in \u001b[0;36m<module>\u001b[0;34m()\u001b[0m\n\u001b[0;32m----> 1\u001b[0;31m \u001b[0mnext\u001b[0m\u001b[0;34m(\u001b[0m\u001b[0mn\u001b[0m\u001b[0;34m)\u001b[0m\u001b[0;34m\u001b[0m\u001b[0m\n\u001b[0m",
            "\u001b[0;31mStopIteration\u001b[0m: "
          ]
        }
      ],
      "source": [
        "next(n)"
      ]
    },
    {
      "cell_type": "markdown",
      "metadata": {
        "id": "Yfw-5eIseCkr"
      },
      "source": [
        "Unlike normal functions, the local variables are not destroyed when the function yields. Furthermore, the generator object can be iterated only once.\n",
        "\n",
        "To restart the process we need to create another generator object using something like n = my_generator()."
      ]
    },
    {
      "cell_type": "code",
      "execution_count": null,
      "metadata": {
        "id": "6B0JQ9kIeCkr",
        "outputId": "c5e39f78-9ee5-42a8-ccd7-3f7843ae47fb"
      },
      "outputs": [
        {
          "name": "stdout",
          "output_type": "stream",
          "text": [
            "First Time\n",
            "1\n",
            "Second Time\n",
            "2\n",
            "Third Time\n",
            "3\n"
          ]
        }
      ],
      "source": [
        "#we can implement using for loop\n",
        "for ele in my_generator():\n",
        "    print ele"
      ]
    },
    {
      "cell_type": "markdown",
      "metadata": {
        "id": "gjdiixrVeCks"
      },
      "source": [
        "# Python Generators with a Loop"
      ]
    },
    {
      "cell_type": "code",
      "execution_count": null,
      "metadata": {
        "id": "HvUl6youeCks",
        "outputId": "614fc2a4-d990-45a4-c5cf-658206adc4f7"
      },
      "outputs": [
        {
          "name": "stdout",
          "output_type": "stream",
          "text": [
            "h\n",
            "s\n",
            "i\n",
            "t\n",
            "a\n",
            "s\n"
          ]
        }
      ],
      "source": [
        "def reverse_string(myStr):\n",
        "    \"\"\"\n",
        "    function to reverse string\n",
        "    \"\"\"\n",
        "    length = len(myStr)\n",
        "    for i in range(length-1, -1, -1):\n",
        "        yield myStr[i]\n",
        "\n",
        "for c in reverse_string(\"satish\"):\n",
        "    print c"
      ]
    },
    {
      "cell_type": "markdown",
      "metadata": {
        "id": "aEfY_f2zeCkt"
      },
      "source": [
        "# Python Generator Expression"
      ]
    },
    {
      "cell_type": "markdown",
      "metadata": {
        "id": "jZZhAesneCku"
      },
      "source": [
        "The syntax for generator expression is similar to that of a list comprehension in Python. But the square brackets are replaced with round parentheses.\n",
        "\n",
        "The major difference between a list comprehension and a generator expression is that while list comprehension produces the entire list, generator expression produces one item at a time."
      ]
    },
    {
      "cell_type": "markdown",
      "metadata": {
        "id": "lDEt7oKVeCku"
      },
      "source": [
        "They are kind of lazy, producing items only when asked for. For this reason, a generator expression is much more memory efficient than an equivalent list comprehension."
      ]
    },
    {
      "cell_type": "code",
      "execution_count": null,
      "metadata": {
        "id": "x9kOaKmIeCkv",
        "outputId": "ca830f02-ffbb-4c7a-d8fc-d6896ae75d31"
      },
      "outputs": [
        {
          "name": "stdout",
          "output_type": "stream",
          "text": [
            "[1, 4, 9, 16]\n",
            "1\n"
          ]
        }
      ],
      "source": [
        "lst = [1, 2, 3, 4]\n",
        "\n",
        "#square each item using list comprehenstion\n",
        "print [x**2 for x in lst]\n",
        "\n",
        "a = (x**2 for x in lst)\n",
        "print next(a)"
      ]
    },
    {
      "cell_type": "code",
      "execution_count": null,
      "metadata": {
        "id": "EKAT703UeCkw",
        "outputId": "028ffc08-7f67-4914-bd6f-c1f490782d1a"
      },
      "outputs": [
        {
          "data": {
            "text/plain": [
              "4"
            ]
          },
          "execution_count": 24,
          "metadata": {},
          "output_type": "execute_result"
        }
      ],
      "source": [
        "next(a)"
      ]
    },
    {
      "cell_type": "code",
      "execution_count": null,
      "metadata": {
        "id": "dOjy9cmmeCkw",
        "outputId": "d1bd9e49-56ab-4a50-da95-cae4da99af8a"
      },
      "outputs": [
        {
          "name": "stdout",
          "output_type": "stream",
          "text": [
            "9\n",
            "16\n"
          ]
        },
        {
          "ename": "StopIteration",
          "evalue": "",
          "output_type": "error",
          "traceback": [
            "\u001b[0;31m---------------------------------------------------------------------------\u001b[0m",
            "\u001b[0;31mStopIteration\u001b[0m                             Traceback (most recent call last)",
            "\u001b[0;32m<ipython-input-25-fbe21c171fb7>\u001b[0m in \u001b[0;36m<module>\u001b[0;34m()\u001b[0m\n\u001b[1;32m      3\u001b[0m \u001b[0;32mprint\u001b[0m \u001b[0mnext\u001b[0m\u001b[0;34m(\u001b[0m\u001b[0ma\u001b[0m\u001b[0;34m)\u001b[0m\u001b[0;34m\u001b[0m\u001b[0m\n\u001b[1;32m      4\u001b[0m \u001b[0;34m\u001b[0m\u001b[0m\n\u001b[0;32m----> 5\u001b[0;31m \u001b[0;32mprint\u001b[0m \u001b[0mnext\u001b[0m\u001b[0;34m(\u001b[0m\u001b[0ma\u001b[0m\u001b[0;34m)\u001b[0m\u001b[0;34m\u001b[0m\u001b[0m\n\u001b[0m\u001b[1;32m      6\u001b[0m \u001b[0;34m\u001b[0m\u001b[0m\n\u001b[1;32m      7\u001b[0m \u001b[0;32mprint\u001b[0m \u001b[0mnext\u001b[0m\u001b[0;34m(\u001b[0m\u001b[0ma\u001b[0m\u001b[0;34m)\u001b[0m\u001b[0;34m\u001b[0m\u001b[0m\n",
            "\u001b[0;31mStopIteration\u001b[0m: "
          ]
        }
      ],
      "source": [
        "print next(a)\n",
        "\n",
        "print next(a)\n",
        "\n",
        "print next(a)\n",
        "\n",
        "print next(a)"
      ]
    },
    {
      "cell_type": "markdown",
      "metadata": {
        "id": "EYwRE5WqeCkx"
      },
      "source": [
        "Generator expression can be used inside functions. When used in such a way, the round parentheses can be dropped."
      ]
    },
    {
      "cell_type": "code",
      "execution_count": null,
      "metadata": {
        "id": "p52gYt63eCkx",
        "outputId": "ff9a64bf-1eb5-4c6d-c72c-70f82e7caab6"
      },
      "outputs": [
        {
          "name": "stdout",
          "output_type": "stream",
          "text": [
            "30\n"
          ]
        }
      ],
      "source": [
        "print sum(x**2 for x in lst)"
      ]
    },
    {
      "cell_type": "markdown",
      "metadata": {
        "id": "ZWRu35wWeCky"
      },
      "source": [
        "# Why Generators are used in python?"
      ]
    },
    {
      "cell_type": "markdown",
      "metadata": {
        "id": "sbQraORieCky"
      },
      "source": [
        "# 1. Easy to Implement"
      ]
    },
    {
      "cell_type": "markdown",
      "metadata": {
        "id": "2ckvTrOleCkz"
      },
      "source": [
        "Generators can be implemented in a clear and concise way as compared to their iterator class counterpart."
      ]
    },
    {
      "cell_type": "code",
      "execution_count": null,
      "metadata": {
        "collapsed": true,
        "id": "PFwb0KwueCkz"
      },
      "outputs": [],
      "source": [
        "class PowOfTwo:\n",
        "    \"\"\"\n",
        "    class to implement iterator of powers of two\n",
        "    \"\"\"\n",
        "    \n",
        "    def __init__(self, max=0):\n",
        "        self.max = max\n",
        "        \n",
        "    def __iter__(self):\n",
        "        self.n = 0\n",
        "        return self\n",
        "\n",
        "    def next(self):\n",
        "        if self.n <= self.max:\n",
        "            result = 2 ** self.n\n",
        "            self.n += 1\n",
        "            return result\n",
        "        else:\n",
        "            raise StopIteration"
      ]
    },
    {
      "cell_type": "code",
      "execution_count": null,
      "metadata": {
        "collapsed": true,
        "id": "yb0ingZ-eCk0"
      },
      "outputs": [],
      "source": [
        "def pow_two_generator(max=0):\n",
        "    n = 0\n",
        "    while n < max:\n",
        "        yield 2 ** n\n",
        "        n += 1"
      ]
    },
    {
      "cell_type": "markdown",
      "metadata": {
        "id": "3U7Vpe8aeCk1"
      },
      "source": [
        "# 2. Memory Efficient"
      ]
    },
    {
      "cell_type": "markdown",
      "metadata": {
        "id": "MjTzbfVjeCk2"
      },
      "source": [
        "A normal function to return a sequence will create the entire sequence in memory before returning the result. This is an overkill if the number of items in the sequence is very large.\n",
        "\n",
        "Generator implementation of such sequence is memory friendly and is preferred since it only produces one item at a time."
      ]
    },
    {
      "cell_type": "markdown",
      "metadata": {
        "id": "KZV0PlRBeCk3"
      },
      "source": [
        "# 3. Represent Infinite Stream"
      ]
    },
    {
      "cell_type": "markdown",
      "metadata": {
        "id": "lB5BPvrNeCk3"
      },
      "source": [
        "Generators are used to represent an infinite stream of data. \n",
        "\n",
        "Infinite streams cannot be stored in memory and since generators produce only one item at a time, it can represent infinite stream of data."
      ]
    },
    {
      "cell_type": "code",
      "execution_count": null,
      "metadata": {
        "collapsed": true,
        "id": "faHdLVQleCk3"
      },
      "outputs": [],
      "source": [
        "def gen_even():\n",
        "    \"\"\"\n",
        "    generate all even numbers \n",
        "    \"\"\"\n",
        "    n = 0\n",
        "    while True:\n",
        "        yield n \n",
        "        n += 2"
      ]
    },
    {
      "cell_type": "markdown",
      "metadata": {
        "id": "F5w_TZAheCk4"
      },
      "source": [
        "# 4. Pipelining Generator"
      ]
    },
    {
      "cell_type": "markdown",
      "metadata": {
        "id": "zsKicExjeCk4"
      },
      "source": [
        "Suppose we have a log file from a famous fast food chain. \n",
        "\n",
        "The log file has a column that keeps track of the number of Dosa's sold every hour and we want to sum it to find the total Dosa's sold in 2 years."
      ]
    },
    {
      "cell_type": "markdown",
      "metadata": {
        "id": "kzUJktaReCk5"
      },
      "source": [
        "with open('sells.log') as file:\n",
        "\n",
        "    dosa_col = (line[2] for line in file)\n",
        "    \n",
        "    per_hour = (int(x) for x in dosa_col if x != 'N/A')\n",
        "    \n",
        "    print \"Total dosas sold = \" + str(sum(per_hour))"
      ]
    }
  ],
  "metadata": {
    "kernelspec": {
      "display_name": "Python 2",
      "language": "python",
      "name": "python2"
    },
    "language_info": {
      "codemirror_mode": {
        "name": "ipython",
        "version": 2
      },
      "file_extension": ".py",
      "mimetype": "text/x-python",
      "name": "python",
      "nbconvert_exporter": "python",
      "pygments_lexer": "ipython2",
      "version": "2.7.10"
    },
    "colab": {
      "name": "iterators_generators.ipynb",
      "provenance": [],
      "include_colab_link": true
    }
  },
  "nbformat": 4,
  "nbformat_minor": 0
}