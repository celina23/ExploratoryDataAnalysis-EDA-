{
  "cells": [
    {
      "cell_type": "markdown",
      "metadata": {
        "id": "view-in-github",
        "colab_type": "text"
      },
      "source": [
        "<a href=\"https://colab.research.google.com/github/celina23/ExploratoryDataAnalysis-EDA-/blob/main/closures_decorators.ipynb\" target=\"_parent\"><img src=\"https://colab.research.google.com/assets/colab-badge.svg\" alt=\"Open In Colab\"/></a>"
      ]
    },
    {
      "cell_type": "markdown",
      "metadata": {
        "id": "3kttbu_UdIAO"
      },
      "source": [
        "# Closures"
      ]
    },
    {
      "cell_type": "markdown",
      "metadata": {
        "id": "DQStg54edIAY"
      },
      "source": [
        "__ Nonlocal variable in a nested function__:\n",
        "\n",
        "\n",
        "Before getting into what a closure is, we have to first understand what a __nested function__ and __nonlocal variable__ is.\n",
        "\n",
        "A function defined inside another function is called a __nested function__. Nested functions can access variables of the enclosing scope.\n",
        "\n",
        "In Python, these non-local variables are read only by default and we must declare them explicitly as non-local (using nonlocal keyword) in order to modify them."
      ]
    },
    {
      "cell_type": "code",
      "execution_count": null,
      "metadata": {
        "id": "hV8_iJXFdIAa",
        "outputId": "b77764a4-c90c-4662-9061-448d15064f85"
      },
      "outputs": [
        {
          "name": "stdout",
          "output_type": "stream",
          "text": [
            "Hello\n"
          ]
        }
      ],
      "source": [
        "#example of a nested function accessing a non-local variable.\n",
        "\n",
        "def print_message(msg):\n",
        "    \n",
        "    #nested function\n",
        "    def printer():\n",
        "        print msg\n",
        "    \n",
        "    printer()\n",
        "    \n",
        "print_message(\"Hello\")\n",
        "        "
      ]
    },
    {
      "cell_type": "markdown",
      "metadata": {
        "id": "yeDzJ1nxdIAf"
      },
      "source": [
        "A Closure is a function object that remembers values in enclosing scopes even if they are not present in memory."
      ]
    },
    {
      "cell_type": "markdown",
      "metadata": {
        "id": "_DBLTY8_dIAg"
      },
      "source": [
        "# Defining Closure Function"
      ]
    },
    {
      "cell_type": "code",
      "execution_count": null,
      "metadata": {
        "id": "pemtvGBydIAh",
        "outputId": "fc726203-62ea-4b58-e821-2919766d6c08"
      },
      "outputs": [
        {
          "name": "stdout",
          "output_type": "stream",
          "text": [
            "Hello\n"
          ]
        }
      ],
      "source": [
        "def print_message(msg):\n",
        "    \n",
        "    #nested function\n",
        "    def printer():\n",
        "        print msg\n",
        "    \n",
        "    return printer\n",
        "    \n",
        "another = print_message(\"Hello\")\n",
        "another()"
      ]
    },
    {
      "cell_type": "markdown",
      "metadata": {
        "id": "qLjjNtJmdIAk"
      },
      "source": [
        "As observed from above code, closures help to invoke function outside their scope.\n",
        "\n",
        "The function __printer__ has its scope only inside the __print_message__. \n",
        "\n",
        "But with the use of closures we can easily extend its scope to invoke a function outside its scope."
      ]
    },
    {
      "cell_type": "markdown",
      "metadata": {
        "id": "ctx7NkFxdIAl"
      },
      "source": [
        "# When do we have a closure?"
      ]
    },
    {
      "cell_type": "markdown",
      "metadata": {
        "id": "tu8_Vl7KdIAn"
      },
      "source": [
        "We must have a nested function (function inside a function).\n",
        "\n",
        "The nested function must refer to a value defined in the enclosing function.\n",
        "\n",
        "The enclosing function must return the nested function."
      ]
    },
    {
      "cell_type": "markdown",
      "metadata": {
        "id": "FuMef4_cdIAp"
      },
      "source": [
        "# When to Use Closures?"
      ]
    },
    {
      "cell_type": "markdown",
      "metadata": {
        "id": "P61c_0N1dIAq"
      },
      "source": [
        "Closures can avoid the use of global values and provides some form of data hiding. It can also provide an object oriented solution to the problem.\n",
        "\n",
        "When there are few methods (one method in most cases) to be implemented in a class, closures can provide an alternate and more elegant solutions. But when the number of attributes and methods get larger, better implement a class."
      ]
    }
  ],
  "metadata": {
    "kernelspec": {
      "display_name": "Python 2",
      "language": "python",
      "name": "python2"
    },
    "language_info": {
      "codemirror_mode": {
        "name": "ipython",
        "version": 2
      },
      "file_extension": ".py",
      "mimetype": "text/x-python",
      "name": "python",
      "nbconvert_exporter": "python",
      "pygments_lexer": "ipython2",
      "version": "2.7.10"
    },
    "colab": {
      "name": "closures_decorators.ipynb",
      "provenance": [],
      "include_colab_link": true
    }
  },
  "nbformat": 4,
  "nbformat_minor": 0
}